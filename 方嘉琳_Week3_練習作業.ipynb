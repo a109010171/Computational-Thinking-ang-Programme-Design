{
  "nbformat": 4,
  "nbformat_minor": 0,
  "metadata": {
    "colab": {
      "name": "方嘉琳-Week3-練習作業.ipynb",
      "provenance": [],
      "collapsed_sections": [],
      "authorship_tag": "ABX9TyPQw/Epaq5WGlRBmDqhl8fy",
      "include_colab_link": true
    },
    "kernelspec": {
      "name": "python3",
      "display_name": "Python 3"
    }
  },
  "cells": [
    {
      "cell_type": "markdown",
      "metadata": {
        "id": "view-in-github",
        "colab_type": "text"
      },
      "source": [
        "<a href=\"https://colab.research.google.com/github/a109010171/Computational-Thinking-ang-Programme-Design/blob/main/%E6%96%B9%E5%98%89%E7%90%B3_Week3_%E7%B7%B4%E7%BF%92%E4%BD%9C%E6%A5%AD.ipynb\" target=\"_parent\"><img src=\"https://colab.research.google.com/assets/colab-badge.svg\" alt=\"Open In Colab\"/></a>"
      ]
    },
    {
      "cell_type": "markdown",
      "metadata": {
        "id": "E88M3_bNNNz-"
      },
      "source": [
        "#隨堂練習\r\n"
      ]
    },
    {
      "cell_type": "markdown",
      "metadata": {
        "id": "Hs7kOg8od-4a"
      },
      "source": [
        "認識電腦"
      ]
    },
    {
      "cell_type": "markdown",
      "metadata": {
        "id": "s8VgIUGzdTis"
      },
      "source": [
        "⼀、四個基本單位:\r\n",
        "\r\n",
        "輸入單元 (input unit)\r\n",
        "\r\n",
        "處理單元 (processing unit)\r\n",
        "\r\n",
        "記憶單元 (memory unit)\r\n",
        "\r\n",
        "輸出單元 (output unit)"
      ]
    },
    {
      "cell_type": "markdown",
      "metadata": {
        "id": "ProTF9Nmdjmz"
      },
      "source": [
        "定義:「運算思維是⼀個思考的程序。它的⽬的是闡明問題，並呈現其解決⽅案，讓「運算器」(機器\r\n",
        "與⼈) 能夠有效率地執⾏。」"
      ]
    },
    {
      "cell_type": "markdown",
      "metadata": {
        "id": "moD4VLUhdrni"
      },
      "source": [
        "(1)培養運算思維能訓練邏輯思考、提升問題解決能⼒。(2)學習運算思維也有助於了解電\r\n",
        "腦的運作模式。 (3)有了這些知識，你就更能有效運⽤科技解決問題。\r\n"
      ]
    },
    {
      "cell_type": "markdown",
      "metadata": {
        "id": "3km9itEUdxnT"
      },
      "source": [
        "解決問題的四個階段:\r\n",
        "\r\n",
        "階段⼀：Analysis - 運算思維。\r\n",
        "\r\n",
        "階段⼆ : Design - 程式設計。\r\n",
        "\r\n",
        "階段三：Coding - 撰寫程式。\r\n",
        "\r\n",
        "階段四：Testing - 測試與除錯。\r\n"
      ]
    },
    {
      "cell_type": "markdown",
      "metadata": {
        "id": "D60FSrBPNVeW"
      },
      "source": [
        "#課後練習"
      ]
    },
    {
      "cell_type": "markdown",
      "metadata": {
        "id": "yZSXaYMtOd-2"
      },
      "source": [
        "**課後練習則為從一則新聞報導，提出你對新聞系（OO系）學生為什麼要學「運算思維與程式設計」的見解。**"
      ]
    },
    {
      "cell_type": "code",
      "metadata": {
        "id": "3iiTTbL3dLKJ"
      },
      "source": [
        "新聞網址：https://www.storm.mg/article/3117067?page=1"
      ],
      "execution_count": null,
      "outputs": []
    },
    {
      "cell_type": "code",
      "metadata": {
        "id": "J7W1gmY3dDS3"
      },
      "source": [
        "運算思維的四個核心能力，分別是：拆解、找出規律、歸納與抽象化、設計演算法。作為一個新聞工作者，每天要處理的資訊很多，如何將一大堆資訊轉化為新聞是不容易的任務。透過學習運算思維，可以培養新聞系學生的求真精神和歸納能力。\n",
        "其次，現代社會科技日新月異，程式運用成為我們日常中無可避免的事情。透過學習程式設計，可以令我們更能純熟運用科技。"
      ],
      "execution_count": null,
      "outputs": []
    }
  ]
}