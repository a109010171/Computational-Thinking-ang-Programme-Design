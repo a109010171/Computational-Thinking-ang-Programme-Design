{
  "nbformat": 4,
  "nbformat_minor": 0,
  "metadata": {
    "kernelspec": {
      "display_name": "Python 3",
      "language": "python",
      "name": "python3"
    },
    "language_info": {
      "codemirror_mode": {
        "name": "ipython",
        "version": 3
      },
      "file_extension": ".py",
      "mimetype": "text/x-python",
      "name": "python",
      "nbconvert_exporter": "python",
      "pygments_lexer": "ipython3",
      "version": "3.8.5"
    },
    "colab": {
      "name": "「方嘉琳-Week10-作業.ipynb」的副本",
      "provenance": [],
      "collapsed_sections": [],
      "include_colab_link": true
    }
  },
  "cells": [
    {
      "cell_type": "markdown",
      "metadata": {
        "id": "view-in-github",
        "colab_type": "text"
      },
      "source": [
        "<a href=\"https://colab.research.google.com/github/a109010171/Computational-Thinking-ang-Programme-Design/blob/main/%E3%80%8C%E6%96%B9%E5%98%89%E7%90%B3_Week10_%E4%BD%9C%E6%A5%AD_ipynb%E3%80%8D%E7%9A%84%E5%89%AF%E6%9C%AC.ipynb\" target=\"_parent\"><img src=\"https://colab.research.google.com/assets/colab-badge.svg\" alt=\"Open In Colab\"/></a>"
      ]
    },
    {
      "cell_type": "markdown",
      "metadata": {
        "id": "b6nqSHqCoUBv"
      },
      "source": [
        "# 基本程式設計(應用篇)"
      ]
    },
    {
      "cell_type": "markdown",
      "metadata": {
        "id": "CGP5VZnaoUB1"
      },
      "source": [
        "### 4-2 運算思維四個基石"
      ]
    },
    {
      "cell_type": "markdown",
      "metadata": {
        "id": "JuaIHrLMoUB2"
      },
      "source": [
        "#### 4-2-4  問題拆解 - 打造你的聊天機器人"
      ]
    },
    {
      "cell_type": "markdown",
      "metadata": {
        "id": "6y96InKFoUB2"
      },
      "source": [
        "「哈囉，大家好。我叫Zyxo64，是一個聊天機器人。\n",
        "\n",
        "在嗜好與興趣方面，我很喜歡美食，也喜歡養動物。\n",
        "\n",
        "很高興有機會來到世新大學，請大家多多指教。\n",
        "\n",
        "嗨！妳好，請問大名？：Francis。\n",
        "\n",
        "Francis，很高興認識你。"
      ]
    },
    {
      "cell_type": "code",
      "metadata": {
        "id": "PGs0284goUB2"
      },
      "source": [
        "# 1.聊天機器人自我介紹\n",
        "print('哈囉，大家好。我叫Jop903，是一個聊天機器人。')\n",
        "print(f'在嗜好與興趣方面，我很喜歡美食，也喜歡養動物。')\n",
        "hello = '很高興有機會來到世新大學，請大家多多指教。'\n",
        "print(hello)\n",
        "\n",
        "# 2. 打招呼，取得對方名字\n",
        "name = input('嗨！妳好，請問大名？：')\n",
        "print(f'[name],很高興認識你。')"
      ],
      "execution_count": null,
      "outputs": []
    },
    {
      "cell_type": "markdown",
      "metadata": {
        "id": "TJTLBzSQoUB3"
      },
      "source": [
        "抱歉，請問一下今年是西元2021年，那是民國幾年呢？：*110*。\n",
        "\n",
        "對！沒錯，謝謝妳！\n",
        "\n",
        "**Francis**，猜猜看我今年幾歲？ ：**18**。\n",
        "\n",
        "哇！你好聰明，我今年的確*18*。\n",
        "\n",
        "再82年我就100歲了。\n",
        "\n",
        "那時候是西元 2103年，也就是民國192年囉！"
      ]
    },
    {
      "cell_type": "code",
      "metadata": {
        "id": "J4li5kcAoUB3",
        "colab": {
          "base_uri": "https://localhost:8080/"
        },
        "outputId": "f940e88b-de50-48fb-9141-699dc78b3eb3"
      },
      "source": [
        "# 3. 數學運算\n",
        "## 3-1 從使用者取得今年年份\n",
        "year = input('抱歉，請問一下今年是西元2021年，那是民國幾年呢？：')\n",
        "\n",
        "print('對！沒錯，謝謝妳！')\n",
        "\n",
        "## 3-2 請使用者猜年齡\n",
        "age = input('猜猜看我今年幾歲？ ：')\n",
        "print('哇！你好聰明，我今年的確',age)\n",
        "\n",
        "## 3-3 計算聊天機器人滿100歲的年份\n",
        "nyears = 100 - int(age)\n",
        "print(f'再{nyears}年我就100歲了。')\n",
        "total = 1911 + 110 + nyears\n",
        "print(f'那時候是西元 {total} 年')\n",
        " "
      ],
      "execution_count": null,
      "outputs": [
        {
          "output_type": "stream",
          "text": [
            "抱歉，請問一下今年是西元2021年，那是民國幾年呢？：110\n",
            "對！沒錯，謝謝妳！\n",
            "猜猜看我今年幾歲？ ：18\n",
            "哇！你好聰明，我今年的確 18\n",
            "再82年我就100歲了。\n",
            "那時候是西元 2103 年\n"
          ],
          "name": "stdout"
        }
      ]
    },
    {
      "cell_type": "markdown",
      "metadata": {
        "id": "e1lWO0L_oUB3"
      },
      "source": [
        "我喜歡吃巧克力，也喜歡嘗試各種新食物。\n",
        "\n",
        "你呢？你最喜歡的食物是什麼？**:披薩**。\n",
        "\n",
        "我也喜歡 *披薩*。\n",
        "\n",
        "你多久吃一次 *披薩*？**：每天**。\n",
        "\n",
        "真有趣。不知道這樣對健康好不好。"
      ]
    },
    {
      "cell_type": "code",
      "metadata": {
        "id": "pdJ2AnjmoUB4",
        "colab": {
          "base_uri": "https://localhost:8080/"
        },
        "outputId": "c40299fe-0618-48a9-cc2d-7b751f1dc9d5"
      },
      "source": [
        "# 4 興趣\n",
        "## 4-1 食物話題\n",
        "print('我喜歡吃巧克力，也喜歡嘗試各種新食物。')\n",
        "food = input('你呢？你最喜歡的食物是什麼？:')\n",
        "print('我也喜歡',food)\n",
        "\n",
        "question = '你多久吃一次' + food + '?:'\n",
        "howoften = input(question)\n",
        "print('真有趣。不知道這樣對健康好不好')"
      ],
      "execution_count": null,
      "outputs": [
        {
          "output_type": "stream",
          "text": [
            "我喜歡吃巧克力，也喜歡嘗試各種新食物。\n",
            "你呢？你最喜歡的食物是什麼？:pork\n",
            "我也喜歡 pork\n",
            "你多久吃一次pork?:every day\n",
            "真有趣。不知道這樣對健康好不好\n"
          ],
          "name": "stdout"
        }
      ]
    },
    {
      "cell_type": "markdown",
      "metadata": {
        "id": "d16Ij0JJoUB4"
      },
      "source": [
        "我最喜歡的動物是長頸鹿。你呢？ **：烏龜**。\n",
        "\n",
        "我不喜歡*烏龜*！\n",
        "\n",
        "不知道 *烏龜* 喜不喜歡吃 *披薩*？"
      ]
    },
    {
      "cell_type": "code",
      "metadata": {
        "id": "Oo143n5zoUB4",
        "colab": {
          "base_uri": "https://localhost:8080/"
        },
        "outputId": "a2adebf3-b6fc-4687-d494-0f04e0d13e2e"
      },
      "source": [
        "# 4 興趣\n",
        "## 4-2 動物話題\n",
        "animal = input('我最喜歡的動物是長頸鹿。你呢？：')\n",
        "print(f'我不喜歡{animal}')\n",
        "print(f'不知道{animal}喜不喜歡吃{food}')"
      ],
      "execution_count": null,
      "outputs": [
        {
          "output_type": "stream",
          "text": [
            "我最喜歡的動物是長頸鹿。你呢？：dog\n",
            "我不喜歡dog\n",
            "不知道dog喜不喜歡吃pork\n"
          ],
          "name": "stdout"
        }
      ]
    },
    {
      "cell_type": "markdown",
      "metadata": {
        "id": "F9f8m-dGoUB4"
      },
      "source": [
        "你今天的心情如何？ **：很開心**。\n",
        "\n",
        "可以告訴我你 *開心* 的原因嗎？**因為週末了！** \n",
        "\n",
        "祝你週末愉快！\n",
        "\n",
        "我喜歡跟你聊天，現在有點累了，改天再聊吧！！\n",
        "\n",
        "再見 *Francis*！"
      ]
    },
    {
      "cell_type": "code",
      "metadata": {
        "id": "R2YqyQBzoUB5",
        "colab": {
          "base_uri": "https://localhost:8080/"
        },
        "outputId": "8fd5005d-32a1-4dfb-fe44-48f25a766b78"
      },
      "source": [
        "# 5. 關於心情的對話\n",
        "feeling = input('你今天的心情如何？:')\n",
        "\n",
        "question2 ='可以告訴我你,'+ feeling +'的原因嗎？:'\n",
        "reason = input(question2)\n",
        "print('我喜歡跟你聊天，現在有點累了，改天再聊吧！！')\n",
        "print('再見')"
      ],
      "execution_count": null,
      "outputs": [
        {
          "output_type": "stream",
          "text": [
            "你今天的心情如何？:happy\n",
            "可以告訴我你,happy的原因嗎？:m\n",
            "我喜歡跟你聊天，現在有點累了，改天再聊吧！！\n",
            "再見\n"
          ],
          "name": "stdout"
        }
      ]
    },
    {
      "cell_type": "markdown",
      "metadata": {
        "id": "KbERLXkxoUB5"
      },
      "source": [
        "我喜歡跟你聊天，現在有點累了，改天再聊吧！！\n",
        "\n",
        "再見 *Francis*！"
      ]
    },
    {
      "cell_type": "code",
      "metadata": {
        "id": "WSJmwXdBoUB5"
      },
      "source": [
        "# 6. 道別\n"
      ],
      "execution_count": null,
      "outputs": []
    },
    {
      "cell_type": "markdown",
      "metadata": {
        "id": "S0JNsTgPoUB5"
      },
      "source": [
        "## 期末報告"
      ]
    },
    {
      "cell_type": "markdown",
      "metadata": {
        "id": "RbouMVz9oUB6"
      },
      "source": [
        "### 組長(學號姓名):\n",
        "\n"
      ]
    },
    {
      "cell_type": "markdown",
      "metadata": {
        "id": "789zSGmeoUB6"
      },
      "source": [
        "### 組員(學號姓名):\n",
        "\n"
      ]
    },
    {
      "cell_type": "markdown",
      "metadata": {
        "id": "9eVDbIgwoUB6"
      },
      "source": [
        "### 題目:"
      ]
    },
    {
      "cell_type": "markdown",
      "metadata": {
        "id": "OtLWJP5HoUB6"
      },
      "source": [
        "### 百字腳本\n",
        "\n"
      ]
    }
  ]
}