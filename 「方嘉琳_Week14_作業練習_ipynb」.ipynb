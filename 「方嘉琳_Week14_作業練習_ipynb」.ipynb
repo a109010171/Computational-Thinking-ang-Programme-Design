{
  "nbformat": 4,
  "nbformat_minor": 0,
  "metadata": {
    "colab": {
      "name": "「方嘉琳-Week14-作業練習.ipynb」.ipynb",
      "provenance": [],
      "collapsed_sections": [],
      "authorship_tag": "ABX9TyN3lbCDRwY+KuhFOpgYjRzm",
      "include_colab_link": true
    },
    "kernelspec": {
      "name": "python3",
      "display_name": "Python 3"
    },
    "language_info": {
      "name": "python"
    }
  },
  "cells": [
    {
      "cell_type": "markdown",
      "metadata": {
        "id": "view-in-github",
        "colab_type": "text"
      },
      "source": [
        "<a href=\"https://colab.research.google.com/github/a109010171/Computational-Thinking-ang-Programme-Design/blob/main/%E3%80%8C%E6%96%B9%E5%98%89%E7%90%B3_Week14_%E4%BD%9C%E6%A5%AD%E7%B7%B4%E7%BF%92_ipynb%E3%80%8D.ipynb\" target=\"_parent\"><img src=\"https://colab.research.google.com/assets/colab-badge.svg\" alt=\"Open In Colab\"/></a>"
      ]
    },
    {
      "cell_type": "markdown",
      "metadata": {
        "id": "Zmb3UMItUy8z"
      },
      "source": [
        "**應用練習3: 剪刀石頭布**\n",
        "\n",
        "目標： 設計和電腦對戰的遊戲"
      ]
    },
    {
      "cell_type": "code",
      "metadata": {
        "colab": {
          "base_uri": "https://localhost:8080/"
        },
        "id": "oeWWBsuAUvJ0",
        "outputId": "e5a9f470-b331-4fe4-b0b1-ee5b3be37d57"
      },
      "source": [
        "my = int(input('請出拳[0]、剪刀[1]、石頭[2]、布[3]'))\n",
        "print(' 我出拳為', my)\n",
        "\n",
        "import random\n",
        "computer = random.randint(0, 2)\n",
        "print(' 電腦出拳為', computer) \n",
        "\n",
        "if my == 0:\n",
        "    if computer == 0: \n",
        "      print('平手')\n",
        "    elif computer == 1: \n",
        "      print('電腦獲勝')\n",
        "    else: \n",
        "      print('玩家獲勝')\n",
        "\n",
        "elif my == 1:\n",
        "    if computer == 0:\n",
        "      print('玩家獲勝') \n",
        "    elif computer == 1:\n",
        "      print('平手') \n",
        "    else:\n",
        "      print('電腦獲勝')\n",
        "      \n",
        "else:\n",
        "    if computer == 1: \n",
        "      print('電腦獲勝')\n",
        "    elif computer == 2: \n",
        "      print('玩家獲勝')\n",
        "    else: \n",
        "      print('平手')\n"
      ],
      "execution_count": 2,
      "outputs": [
        {
          "output_type": "stream",
          "text": [
            "請出拳[0]、剪刀[1]、石頭[2]、布[3]3\n",
            " 我出拳為 3\n",
            " 電腦出拳為 2\n",
            "玩家獲勝\n"
          ],
          "name": "stdout"
        }
      ]
    },
    {
      "cell_type": "markdown",
      "metadata": {
        "id": "rN1kJwf6W0VD"
      },
      "source": [
        "**加分題: 棒打老虎雞吃蟲**\n",
        "\n",
        "[棒打老虎雞吃蟲]跟[剪刀石頭布]是類似的遊戲，練習一下你是否也可以寫出類似的小遊戲呢?"
      ]
    },
    {
      "cell_type": "code",
      "metadata": {
        "colab": {
          "base_uri": "https://localhost:8080/"
        },
        "id": "46x1HfSZXDoP",
        "outputId": "f13490da-2484-4f48-d658-2eb67e8fa753"
      },
      "source": [
        "my_choice = int(input(\"請出拳 [0] 蟲 [1] 雞 [2] 老虎 [3] 棒子\")) \n",
        "print(\"你出的拳:\", my_choice)\n",
        "import random\n",
        "com_choice = random.randint(0, 3)\n",
        "print(\"電腦出拳為\", com_choice)\n",
        "\n",
        "if my_choice == (com_choice + 1) % 4:\n",
        "    print(\"我贏了\")\n",
        "\n",
        "elif com_choice == (my_choice + 1) % 4:\n",
        "    print(\"電腦贏了\") \n",
        "else:\n",
        "    print(\"平手\")"
      ],
      "execution_count": 8,
      "outputs": [
        {
          "output_type": "stream",
          "text": [
            "請出拳 [0] 蟲 [1] 雞 [2] 老虎 [3] 棒子3\n",
            "你出的拳: 3\n",
            "電腦出拳為 2\n",
            "我贏了\n"
          ],
          "name": "stdout"
        }
      ]
    }
  ]
}